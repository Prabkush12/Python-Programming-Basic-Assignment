{
 "cells": [
  {
   "cell_type": "markdown",
   "id": "a4d07ad9",
   "metadata": {},
   "source": [
    "## Python Programming Basic Assignment 9"
   ]
  },
  {
   "cell_type": "markdown",
   "id": "23ae7667",
   "metadata": {},
   "source": [
    "**1. Write a Python program to check if the given number is a Disarium Number?**"
   ]
  },
  {
   "cell_type": "code",
   "execution_count": 2,
   "id": "04d6d824",
   "metadata": {},
   "outputs": [
    {
     "name": "stdout",
     "output_type": "stream",
     "text": [
      "Enter the Number to Check Disarium Number = 135\n",
      "The Sum of the Digits = 135\n",
      "\n",
      "135 is a Disarium Number.\n"
     ]
    }
   ],
   "source": [
    "Number = int(input(\"Enter the Number to Check Disarium Number = \"))\n",
    "length = len(str(Number))\n",
    "\n",
    "Temp = Number\n",
    "Sum = 0\n",
    "rem = 0\n",
    "\n",
    "while Temp > 0:\n",
    "    rem = Temp % 10\n",
    "    Sum = Sum + int(rem**length)\n",
    "    Temp = Temp // 10\n",
    "    length = length - 1\n",
    "\n",
    "print(\"The Sum of the Digits = %d\" %Sum)\n",
    "\n",
    "if Sum == Number:\n",
    "    print(\"\\n%d is a Disarium Number.\" %Number)\n",
    "else:\n",
    "    print(\"%d is Not a Disarium Number.\" %Number)"
   ]
  },
  {
   "cell_type": "markdown",
   "id": "41eba7f0",
   "metadata": {},
   "source": [
    "**2. Write a Python program to print all disarium numbers between 1 to 100?**"
   ]
  },
  {
   "cell_type": "code",
   "execution_count": 5,
   "id": "5270f9a1",
   "metadata": {},
   "outputs": [
    {
     "name": "stdout",
     "output_type": "stream",
     "text": [
      "Enter the Minimum Disarium Number = 1\n",
      "Enter the Maximum Disarium Number = 100\n",
      "\n",
      "The List of Disarium Numbers from 1 and 100\n",
      "1   2   3   4   5   6   7   8   9   89   "
     ]
    }
   ],
   "source": [
    "import math\n",
    "\n",
    "def digitsCount(Number):\n",
    "    length = 0\n",
    "    while Number != 0:\n",
    "        length = length + 1\n",
    "        Number = Number // 10\n",
    "    return length\n",
    "\n",
    "def digitsSum(Number):\n",
    "    Sum = 0\n",
    "    rem = 0\n",
    "    length = digitsCount(Number)\n",
    "    while Number > 0:\n",
    "        rem = Number % 10\n",
    "        Sum = Sum + math.pow(rem, length)\n",
    "        Number = Number // 10\n",
    "        length = length - 1\n",
    "    return Sum\n",
    "\n",
    "\n",
    "minDis = int(input(\"Enter the Minimum Disarium Number = \"))\n",
    "maxDis = int(input(\"Enter the Maximum Disarium Number = \"))\n",
    "\n",
    "print(\"\\nThe List of Disarium Numbers from {0} and {1}\".format(minDis, maxDis)) \n",
    "for i in range(minDis, maxDis):\n",
    "    Sum = digitsSum(i)\n",
    "\n",
    "    if Sum == i:\n",
    "        print(i, end = \"   \")"
   ]
  },
  {
   "cell_type": "markdown",
   "id": "d96888dd",
   "metadata": {},
   "source": [
    "**3. Write a Python program to check if the given number is Happy Number?**"
   ]
  },
  {
   "cell_type": "code",
   "execution_count": 6,
   "id": "d755b5e5",
   "metadata": {},
   "outputs": [
    {
     "name": "stdout",
     "output_type": "stream",
     "text": [
      "True\n",
      "True\n",
      "False\n"
     ]
    }
   ],
   "source": [
    "def is_Happy_num(n):\n",
    "  past = set()\n",
    "  while n != 1:\n",
    "        n = sum(int(i)**2 for i in str(n))\n",
    "        if n in past:\n",
    "            return False\n",
    "        past.add(n)\n",
    "  return True\n",
    "print(is_Happy_num(7))\n",
    "print(is_Happy_num(932))\n",
    "print(is_Happy_num(6))\n"
   ]
  },
  {
   "cell_type": "markdown",
   "id": "8ee52a0d",
   "metadata": {},
   "source": [
    "**4. Write a Python program to print all happy numbers between 1 and 100?**"
   ]
  },
  {
   "cell_type": "code",
   "execution_count": 7,
   "id": "e63a6859",
   "metadata": {},
   "outputs": [
    {
     "name": "stdout",
     "output_type": "stream",
     "text": [
      "The list of happy numbers between 1 and 100 are : \n",
      "1\n",
      "7\n",
      "10\n",
      "13\n",
      "19\n",
      "23\n",
      "28\n",
      "31\n",
      "32\n",
      "44\n",
      "49\n",
      "68\n",
      "70\n",
      "79\n",
      "82\n",
      "86\n",
      "91\n",
      "94\n",
      "97\n",
      "100\n"
     ]
    }
   ],
   "source": [
    "def check_happy_num(my_num):\n",
    "   remaining = sum_val = 0\n",
    "   while(my_num > 0):\n",
    "      remaining = my_num%10\n",
    "      sum_val = sum_val + (remaining*remaining)\n",
    "      my_num = my_num//10\n",
    "   return sum_val\n",
    "print(\"The list of happy numbers between 1 and 100 are : \")\n",
    "for i in range(1, 101):\n",
    "   my_result = i\n",
    "   while(my_result != 1 and my_result != 4):\n",
    "      my_result = check_happy_num(my_result)\n",
    "   if(my_result == 1):\n",
    "      print(i)"
   ]
  },
  {
   "cell_type": "markdown",
   "id": "e1b97cd4",
   "metadata": {},
   "source": [
    "**5. Write a Python program to determine whether the given number is a Harshad Number?**"
   ]
  },
  {
   "cell_type": "code",
   "execution_count": 8,
   "id": "9278207d",
   "metadata": {},
   "outputs": [
    {
     "name": "stdout",
     "output_type": "stream",
     "text": [
      "Enter number: 173\n",
      "173 is Not Harshad Number\n"
     ]
    }
   ],
   "source": [
    "# Harshad Number\n",
    "\n",
    "# Reading number\n",
    "number = int(input('Enter number: '))\n",
    "\n",
    "# Making copy of number for later use\n",
    "copy = number\n",
    "\n",
    "# Finding sum of digit\n",
    "digit_sum = 0\n",
    "\n",
    "while number:\n",
    "    digit_sum += number%10\n",
    "    number //= 10\n",
    "\n",
    "# Checking divisibility & making decision\n",
    "if copy%digit_sum == 0:\n",
    "    print('%d is Harshad Number' % (copy))\n",
    "else:\n",
    "    print('%d is Not Harshad Number' % (copy))"
   ]
  },
  {
   "cell_type": "markdown",
   "id": "5aa43287",
   "metadata": {},
   "source": [
    "**6. Write a Python program to print all pronic numbers between 1 and 100?**"
   ]
  },
  {
   "cell_type": "code",
   "execution_count": 26,
   "id": "82e2ce72",
   "metadata": {},
   "outputs": [
    {
     "name": "stdout",
     "output_type": "stream",
     "text": [
      "Pronic numbers between 1 and 100: \n",
      "2\n",
      " \n",
      "6\n",
      " \n",
      "12\n",
      " \n",
      "20\n",
      " \n",
      "30\n",
      " \n",
      "42\n",
      " \n",
      "56\n",
      " \n",
      "72\n",
      " \n",
      "90\n",
      " \n"
     ]
    }
   ],
   "source": [
    "#isPronicNumber() will determine whether a given number is a pronic number or not  \n",
    "def isPronicNumber(num):  \n",
    "    flag = False;  \n",
    "      \n",
    "    for j in range(1, num+1):  \n",
    "        #Checks for pronic number by multiplying consecutive numbers  \n",
    "        if((j*(j+1)) == num):  \n",
    "            flag = True;  \n",
    "            break;  \n",
    "    return flag;  \n",
    "   \n",
    "#Displays pronic numbers between 1 and 100  \n",
    "print(\"Pronic numbers between 1 and 100: \");  \n",
    "for i in range(1, 101):  \n",
    "    if(isPronicNumber(i)):  \n",
    "        print(i),  \n",
    "        print(\" \"),  "
   ]
  }
 ],
 "metadata": {
  "kernelspec": {
   "display_name": "Python 3 (ipykernel)",
   "language": "python",
   "name": "python3"
  },
  "language_info": {
   "codemirror_mode": {
    "name": "ipython",
    "version": 3
   },
   "file_extension": ".py",
   "mimetype": "text/x-python",
   "name": "python",
   "nbconvert_exporter": "python",
   "pygments_lexer": "ipython3",
   "version": "3.9.7"
  }
 },
 "nbformat": 4,
 "nbformat_minor": 5
}
