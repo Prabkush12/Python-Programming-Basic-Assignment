{
 "cells": [
  {
   "cell_type": "markdown",
   "id": "024cf2e6",
   "metadata": {},
   "source": [
    "## Python Programming Basic Assignment 7"
   ]
  },
  {
   "cell_type": "markdown",
   "id": "d99c5a1d",
   "metadata": {},
   "source": [
    "**1. Write a Python Program to find sum of array?**"
   ]
  },
  {
   "cell_type": "code",
   "execution_count": 29,
   "id": "528aafd3",
   "metadata": {},
   "outputs": [
    {
     "name": "stdout",
     "output_type": "stream",
     "text": [
      "Sum of the array is  231\n"
     ]
    }
   ],
   "source": [
    "# Python 3 code to find sum\n",
    "# of elements in given array\n",
    "def _sum(arr):\n",
    "\n",
    "    sum=0\n",
    "\n",
    "    for i in arr:\n",
    "        sum = sum + i\n",
    "\n",
    "    return(sum)\n",
    "\n",
    "arr=[]\n",
    "# input values to list\n",
    "arr = [24, 13, 44, 150]\n",
    "\n",
    "# calculating length of array\n",
    "n = len(arr)\n",
    "ans = _sum(arr)\n",
    "\n",
    "# display sum\n",
    "print ('Sum of the array is ', ans)"
   ]
  },
  {
   "cell_type": "markdown",
   "id": "7285f856",
   "metadata": {},
   "source": [
    "**2. Write a Python Program to find largest element in an array?**"
   ]
  },
  {
   "cell_type": "code",
   "execution_count": 31,
   "id": "e6d5c16c",
   "metadata": {},
   "outputs": [
    {
     "name": "stdout",
     "output_type": "stream",
     "text": [
      "Largest element present in given array: 101\n"
     ]
    }
   ],
   "source": [
    "#Initialize array     \n",
    "arr = [26, 101, 75, 45, 23];     \n",
    "     \n",
    "#Initialize max with first element of array.    \n",
    "max = arr[0];    \n",
    "     \n",
    "#Loop through the array    \n",
    "for i in range(0, len(arr)):    \n",
    "    #Compare elements of array with max    \n",
    "   if(arr[i] > max):    \n",
    "       max = arr[i];    \n",
    "           \n",
    "print(\"Largest element present in given array: \" + str(max));   "
   ]
  },
  {
   "cell_type": "markdown",
   "id": "82cfaf33",
   "metadata": {},
   "source": [
    "**3. Write a Python Program for array rotation?**"
   ]
  },
  {
   "cell_type": "code",
   "execution_count": 33,
   "id": "93404efa",
   "metadata": {},
   "outputs": [
    {
     "name": "stdout",
     "output_type": "stream",
     "text": [
      "Array after left rotation is:  [13, 14, 15, 16, 17, 11, 12]\n"
     ]
    }
   ],
   "source": [
    "def rotateArray(a,d):\n",
    "    temp = []\n",
    "    n=len(a)\n",
    "    for i in range(d,n):\n",
    "        temp.append(a[i])\n",
    "    i = 0\n",
    "    for i in range (0,d):\n",
    "        temp.append(a[i])\n",
    "    a=temp.copy()\n",
    "    return a\n",
    " \n",
    "arr = [11,12,13,14,15,16,17]\n",
    "print(\"Array after left rotation is: \", end=' ')\n",
    "print(rotateArray(arr, 2))"
   ]
  },
  {
   "cell_type": "markdown",
   "id": "4c02a996",
   "metadata": {},
   "source": [
    "**4. Write a Python Program to Split the array and add the first part to the end?**"
   ]
  },
  {
   "cell_type": "code",
   "execution_count": 63,
   "id": "227538f1",
   "metadata": {},
   "outputs": [
    {
     "name": "stdout",
     "output_type": "stream",
     "text": [
      "6 7 53 56 13 18 "
     ]
    }
   ],
   "source": [
    "# Python Program to Split the array and add the first part to the end\n",
    "def splitArr(a, n, k):\n",
    "    b = a[:k]\n",
    "    return (a[k::]+b[::])\n",
    "\t\t\n",
    "\n",
    "# main\n",
    "arr = [13, 18, 6, 7, 53, 56]\n",
    "n = len(arr)\n",
    "position = 2\n",
    "arr = splitArr(arr, n, position)\n",
    "for i in range(0, n):\n",
    "\tprint(arr[i], end = ' ')\n"
   ]
  },
  {
   "cell_type": "markdown",
   "id": "52c078fc",
   "metadata": {},
   "source": [
    "**5. Write a Python Program to check if given array is Monotonic?**"
   ]
  },
  {
   "cell_type": "code",
   "execution_count": 65,
   "id": "bf30d564",
   "metadata": {},
   "outputs": [
    {
     "name": "stdout",
     "output_type": "stream",
     "text": [
      "True\n"
     ]
    }
   ],
   "source": [
    "# Python3 program to find sum in Nth group\n",
    "\n",
    "# Check if given array is Monotonic\n",
    "def isMonotonic(A):\n",
    "\n",
    "\treturn (all(A[i] <= A[i + 1] for i in range(len(A) - 1)) or\n",
    "\t\t\tall(A[i] >= A[i + 1] for i in range(len(A) - 1)))\n",
    "\n",
    "# Driver program\n",
    "A = [7, 6, 5, 5]\n",
    "\n",
    "# Print required result\n",
    "print(isMonotonic(A))\n"
   ]
  },
  {
   "cell_type": "code",
   "execution_count": null,
   "id": "19c9dde5",
   "metadata": {},
   "outputs": [],
   "source": []
  }
 ],
 "metadata": {
  "kernelspec": {
   "display_name": "Python 3 (ipykernel)",
   "language": "python",
   "name": "python3"
  },
  "language_info": {
   "codemirror_mode": {
    "name": "ipython",
    "version": 3
   },
   "file_extension": ".py",
   "mimetype": "text/x-python",
   "name": "python",
   "nbconvert_exporter": "python",
   "pygments_lexer": "ipython3",
   "version": "3.9.7"
  }
 },
 "nbformat": 4,
 "nbformat_minor": 5
}
