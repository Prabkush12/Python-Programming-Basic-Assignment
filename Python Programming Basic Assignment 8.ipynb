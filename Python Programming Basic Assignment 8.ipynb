{
 "cells": [
  {
   "cell_type": "markdown",
   "id": "41e5cb9f",
   "metadata": {},
   "source": [
    "Python Programming Basic Assignment 8"
   ]
  },
  {
   "cell_type": "markdown",
   "id": "e78c59c0",
   "metadata": {},
   "source": [
    "**1. Write a Python Program to Add Two Matrices?**"
   ]
  },
  {
   "cell_type": "code",
   "execution_count": 4,
   "id": "ba40f8a1",
   "metadata": {},
   "outputs": [
    {
     "name": "stdout",
     "output_type": "stream",
     "text": [
      "[10, 10, 10]\n",
      "[10, 10, 10]\n",
      "[10, 10, 10]\n"
     ]
    }
   ],
   "source": [
    "# Program to add two matrices \n",
    "\n",
    "X = [[1,2,3],\n",
    "\t[4 ,5,6],\n",
    "\t[7 ,8,9]]\n",
    "\n",
    "Y = [[9,8,7],\n",
    "\t[6,5,4],\n",
    "\t[3,2,1]]\n",
    "\n",
    "\n",
    "result = [[0,0,0],\n",
    "\t\t[0,0,0],\n",
    "\t\t[0,0,0]]\n",
    "\n",
    "# iterate through rows\n",
    "for i in range(len(X)):\n",
    "# iterate through columns\n",
    "\tfor j in range(len(X[0])):\n",
    "\t\tresult[i][j] = X[i][j] + Y[i][j]\n",
    "\n",
    "for r in result:\n",
    "\tprint(r)\n"
   ]
  },
  {
   "cell_type": "markdown",
   "id": "61377fbf",
   "metadata": {},
   "source": [
    "**2. Write a Python Program to Multiply Two Matrices?**"
   ]
  },
  {
   "cell_type": "code",
   "execution_count": 7,
   "id": "a2e339c1",
   "metadata": {},
   "outputs": [
    {
     "name": "stdout",
     "output_type": "stream",
     "text": [
      "[67, 30, 27, 102]\n",
      "[81, 64, 58, 135]\n",
      "[74, 33, 45, 141]\n"
     ]
    }
   ],
   "source": [
    "# Program to multiply two matrices using nested loops\n",
    "\n",
    "# 3x3 matrix\n",
    "X = [[2,7,3],\n",
    "    [5 ,5,8],\n",
    "    [1,8,6]]\n",
    "# 3x4 matrix\n",
    "Y = [[6,7,1,1],\n",
    "    [7,1,1,10],\n",
    "    [2,3,6,10]]\n",
    "# result is 3x4\n",
    "result = [[0,0,0,0],\n",
    "         [0,0,0,0],\n",
    "         [0,0,0,0]]\n",
    "\n",
    "# iterate through rows of X\n",
    "for i in range(len(X)):\n",
    "   # iterate through columns of Y\n",
    "   for j in range(len(Y[0])):\n",
    "       # iterate through rows of Y\n",
    "       for k in range(len(Y)):\n",
    "           result[i][j] += X[i][k] * Y[k][j]\n",
    "\n",
    "for r in result:\n",
    "   print(r)\n"
   ]
  },
  {
   "cell_type": "markdown",
   "id": "44a8fd9e",
   "metadata": {},
   "source": [
    "**3. Write a Python Program to Transpose a Matrix?**"
   ]
  },
  {
   "cell_type": "code",
   "execution_count": 9,
   "id": "3811d4fc",
   "metadata": {},
   "outputs": [
    {
     "name": "stdout",
     "output_type": "stream",
     "text": [
      "[15, 14, 30]\n",
      "[8, 50, 18]\n"
     ]
    }
   ],
   "source": [
    "# Program to transpose a matrix using a nested loop\n",
    "\n",
    "X = [[15,8],\n",
    "    [14 ,50],\n",
    "    [30 ,18]]\n",
    "\n",
    "result = [[0,0,0],\n",
    "         [0,0,0]]\n",
    "\n",
    "# iterate through rows\n",
    "for i in range(len(X)):\n",
    "   # iterate through columns\n",
    "   for j in range(len(X[0])):\n",
    "       result[j][i] = X[i][j]\n",
    "\n",
    "for r in result:\n",
    "   print(r)\n"
   ]
  },
  {
   "cell_type": "markdown",
   "id": "194cb188",
   "metadata": {},
   "source": [
    "**4. Write a Python Program to Sort Words in Alphabetic Order?**"
   ]
  },
  {
   "cell_type": "code",
   "execution_count": 11,
   "id": "455e0329",
   "metadata": {},
   "outputs": [
    {
     "name": "stdout",
     "output_type": "stream",
     "text": [
      "The sorted words are:\n",
      "are\n",
      "ineuron\n",
      "of\n",
      "students\n",
      "the\n",
      "we\n"
     ]
    }
   ],
   "source": [
    "# Python Program to Sort Words in Alphabetic Order\n",
    "\n",
    "my_str = \"we are the students of ineuron\"\n",
    "\n",
    "# To take input from the user\n",
    "#my_str = input(\"Enter a string: \")\n",
    "\n",
    "# breakdown the string into a list of words\n",
    "words = [word.lower() for word in my_str.split()]\n",
    "\n",
    "# sort the list\n",
    "words.sort()\n",
    "\n",
    "# display the sorted words\n",
    "\n",
    "print(\"The sorted words are:\")\n",
    "for word in words:\n",
    "   print(word)\n"
   ]
  },
  {
   "cell_type": "markdown",
   "id": "30b2921f",
   "metadata": {},
   "source": [
    "**5. Write a Python Program to Remove Punctuation From a String?**"
   ]
  },
  {
   "cell_type": "code",
   "execution_count": null,
   "id": "f0a132ce",
   "metadata": {},
   "outputs": [],
   "source": [
    "# define punctuation  \n",
    "punctuation = '''''!()-[]{};:'\"\\,<>./?@#$%^&*_~'''  \n",
    "# take input from the user  \n",
    "my_str = input(\"Enter a string: \")  \n",
    "# remove punctuation from the string  \n",
    "no_punct = \"\"  \n",
    "for char in my_str:  \n",
    "   if char not in punctuation:  \n",
    "       no_punct = no_punct + char  \n",
    "# display the unpunctuated string  \n",
    "print(no_punct)  "
   ]
  },
  {
   "cell_type": "code",
   "execution_count": null,
   "id": "edcb3fdf",
   "metadata": {},
   "outputs": [],
   "source": []
  }
 ],
 "metadata": {
  "kernelspec": {
   "display_name": "Python 3 (ipykernel)",
   "language": "python",
   "name": "python3"
  },
  "language_info": {
   "codemirror_mode": {
    "name": "ipython",
    "version": 3
   },
   "file_extension": ".py",
   "mimetype": "text/x-python",
   "name": "python",
   "nbconvert_exporter": "python",
   "pygments_lexer": "ipython3",
   "version": "3.9.7"
  }
 },
 "nbformat": 4,
 "nbformat_minor": 5
}
