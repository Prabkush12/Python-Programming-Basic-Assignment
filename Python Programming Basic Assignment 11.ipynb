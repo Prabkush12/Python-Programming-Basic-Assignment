{
 "cells": [
  {
   "cell_type": "markdown",
   "id": "39d2152d",
   "metadata": {},
   "source": [
    "## Python Programming Basic Assignment 11"
   ]
  },
  {
   "cell_type": "markdown",
   "id": "48c9d208",
   "metadata": {},
   "source": [
    "**1. Write a Python program to find words which are greater than given length k?**"
   ]
  },
  {
   "cell_type": "code",
   "execution_count": 4,
   "id": "8b78ba45",
   "metadata": {},
   "outputs": [
    {
     "name": "stdout",
     "output_type": "stream",
     "text": [
      "['THIS', 'FULL', 'STACK', 'INEURON', 'BATCH']\n"
     ]
    }
   ],
   "source": [
    "# Python program to find all string\n",
    "# which are greater than given length k\n",
    " \n",
    "# function find string greater than length k\n",
    "def string_k(k, str):\n",
    "     \n",
    "    # create the empty string\n",
    "    string = []\n",
    "     \n",
    "    # split the string where space is comes\n",
    "    text = str.split(\" \")\n",
    "     \n",
    "    # iterate the loop till every substring\n",
    "    for x in text:\n",
    "         \n",
    "        # if length of current sub string\n",
    "        # is greater than k then\n",
    "        if len(x) > k:\n",
    "             \n",
    "            # append this sub string in\n",
    "            # string list\n",
    "            string.append(x)\n",
    "             \n",
    "     # return string list\n",
    "    return string\n",
    " \n",
    " \n",
    "    \n",
    "k = 3\n",
    "str =\"THIS IS A FULL STACK INEURON BATCH\"\n",
    "print(string_k(k, str))"
   ]
  },
  {
   "cell_type": "markdown",
   "id": "3f8631f1",
   "metadata": {},
   "source": [
    "**2. Write a Python program for removing i-th character from a string?**"
   ]
  },
  {
   "cell_type": "code",
   "execution_count": 14,
   "id": "b8ea7a18",
   "metadata": {},
   "outputs": [
    {
     "name": "stdout",
     "output_type": "stream",
     "text": [
      "THIS IS A ULL STACK INEURON BATCH\n"
     ]
    }
   ],
   "source": [
    "def remove_char(s, i):\n",
    "    a = s[ : i]\n",
    "    b = s[i + 1: ]\n",
    "\n",
    "    return a+b\n",
    "\n",
    "string = \"THIS IS A FULL STACK INEURON BATCH\"\n",
    "# Remove ith index element\n",
    "i = 11\n",
    "print(remove_char(string,i-1))\n",
    "\n"
   ]
  },
  {
   "cell_type": "markdown",
   "id": "4ec7eec5",
   "metadata": {},
   "source": [
    "**3. Write a Python program to split and join a string?**"
   ]
  },
  {
   "cell_type": "code",
   "execution_count": 27,
   "id": "9cb92127",
   "metadata": {},
   "outputs": [
    {
     "name": "stdout",
     "output_type": "stream",
     "text": [
      "After Splitting:  ['THIS', 'IS', 'A', 'FULL', 'STACK', 'INEURON', 'BATCH']\n",
      "After joining:  THIS-IS-A-FULL-STACK-INEURON-BATCH\n"
     ]
    }
   ],
   "source": [
    "def split_string(string):\n",
    "    # Splitting based on space delimiter\n",
    "    list_string = string.split(' ')\n",
    "    return list_string\n",
    "\n",
    "def join_string(list_string):\n",
    "    # Joining based on '-' delimiter\n",
    "    string = '-'.join(list_string)\n",
    "    return string\n",
    "\n",
    "string = 'THIS IS A FULL STACK INEURON BATCH'\n",
    "# Splitting a string\n",
    "list_string = split_string(string)\n",
    "print(\"After Splitting: \",list_string)\n",
    "\n",
    "# Join list of strings into one\n",
    "res_string = join_string(list_string)\n",
    "print(\"After joining: \",res_string)"
   ]
  },
  {
   "cell_type": "markdown",
   "id": "e4b2156d",
   "metadata": {},
   "source": [
    "**4. Write a Python to check if a given string is binary string or not?**"
   ]
  },
  {
   "cell_type": "code",
   "execution_count": 32,
   "id": "74af316c",
   "metadata": {},
   "outputs": [
    {
     "name": "stdout",
     "output_type": "stream",
     "text": [
      "StringA is a binary string.\n",
      "StringB is not a binary string.\n"
     ]
    }
   ],
   "source": [
    "stringA = '1111001011010110'\n",
    "b = {'0','1'}\n",
    "t = set(stringA)\n",
    "\n",
    "if b == t or t == {'0'} or t == {'1'}:\n",
    "    print(\"StringA is a binary string.\")\n",
    "else:\n",
    "    print(\"StringA is not a binary string.\")\n",
    "\n",
    "stringB = '1081010111001'\n",
    "u = set(stringB)\n",
    "\n",
    "if b == u or u == {'0'} or u == {'1'}:\n",
    "    print(\"StringB is a binary string.\")\n",
    "else:\n",
    "    print(\"StringB is not a binary string.\")"
   ]
  },
  {
   "cell_type": "markdown",
   "id": "7d53c022",
   "metadata": {},
   "source": [
    "**5. Write a Python program to find uncommon words from two Strings?**"
   ]
  },
  {
   "cell_type": "code",
   "execution_count": 39,
   "id": "b907c2a4",
   "metadata": {},
   "outputs": [
    {
     "name": "stdout",
     "output_type": "stream",
     "text": [
      "['ineuron', 'a', 'full', 'stack', 'batch']\n"
     ]
    }
   ],
   "source": [
    "def uncommon_words(s1, s2):\n",
    "    count = {}\n",
    "    for word in s1.split():\n",
    "        count[word] = count.get(word, 0) + 1\n",
    "    # words of string s2\n",
    "    for word in s2.split():\n",
    "        count[word] = count.get(word, 0) + 1\n",
    "    # return required list of words\n",
    "    return [word for word in count if count[word] == 1]\n",
    "\n",
    "s1=\"This is ineuron\"\n",
    "s2=\"This is a full stack batch\"\n",
    "  \n",
    "# Print required answer\n",
    "print(uncommon_words(s1, s2))"
   ]
  },
  {
   "cell_type": "markdown",
   "id": "a8196b7d",
   "metadata": {},
   "source": [
    "**6. Write a Python to find all duplicate characters in string?**"
   ]
  },
  {
   "cell_type": "code",
   "execution_count": 42,
   "id": "1401a66a",
   "metadata": {},
   "outputs": [
    {
     "name": "stdout",
     "output_type": "stream",
     "text": [
      "Duplicate characters in a given string: \n",
      "h\n",
      "i\n",
      "s\n",
      "n\n",
      "u\n",
      "l\n",
      "t\n",
      "a\n",
      "c\n"
     ]
    }
   ],
   "source": [
    "string = \"This is ineuron full stack batch\";  \n",
    "   \n",
    "print(\"Duplicate characters in a given string: \");  \n",
    "#Counts each character present in the string  \n",
    "for i in range(0, len(string)):  \n",
    "    count = 1;  \n",
    "    for j in range(i+1, len(string)):  \n",
    "        if(string[i] == string[j] and string[i] != ' '):  \n",
    "            count = count + 1;  \n",
    "            #Set string[j] to 0 to avoid printing visited character  \n",
    "            string = string[:j] + '0' + string[j+1:];  \n",
    "   \n",
    "    #A character is considered as duplicate if count is greater than 1  \n",
    "    if(count > 1 and string[i] != '0'):  \n",
    "        print(string[i]);  "
   ]
  },
  {
   "cell_type": "markdown",
   "id": "c0546c42",
   "metadata": {},
   "source": [
    "**7. Write a Python Program to check if a string contains any special character?**"
   ]
  },
  {
   "cell_type": "code",
   "execution_count": 43,
   "id": "cc0501cf",
   "metadata": {},
   "outputs": [
    {
     "name": "stdout",
     "output_type": "stream",
     "text": [
      "Enter any string: Hi it's Friday!! \n",
      "The string contains special characters.\n"
     ]
    }
   ],
   "source": [
    "# Python program to check special character\n",
    "\n",
    "# import required package\n",
    "import re\n",
    "\n",
    "# take inputs\n",
    "string = input('Enter any string: ')\n",
    " \n",
    "# special characters\n",
    "special_char = re.compile('[@_!#$%^&*()<>?/\\|}{~:]')\n",
    "\n",
    "# check string contains special characters or not\n",
    "if(special_char.search(string) == None):\n",
    "    print('String does not contain any special characters.')\n",
    "else:\n",
    "    print('The string contains special characters.')"
   ]
  },
  {
   "cell_type": "code",
   "execution_count": null,
   "id": "0d07b921",
   "metadata": {},
   "outputs": [],
   "source": []
  }
 ],
 "metadata": {
  "kernelspec": {
   "display_name": "Python 3 (ipykernel)",
   "language": "python",
   "name": "python3"
  },
  "language_info": {
   "codemirror_mode": {
    "name": "ipython",
    "version": 3
   },
   "file_extension": ".py",
   "mimetype": "text/x-python",
   "name": "python",
   "nbconvert_exporter": "python",
   "pygments_lexer": "ipython3",
   "version": "3.9.7"
  }
 },
 "nbformat": 4,
 "nbformat_minor": 5
}
